{
 "cells": [
  {
   "cell_type": "code",
   "execution_count": 14,
   "id": "5b95d421",
   "metadata": {},
   "outputs": [],
   "source": [
    "#Загрузка библиотек\n",
    "import numpy as np\n",
    "import pandas as pd\n",
    "import sklearn\n",
    "\n",
    "from sklearn.metrics import r2_score\n",
    "from sklearn.model_selection import train_test_split\n",
    "from sklearn.preprocessing import StandardScaler,MinMaxScaler\n",
    "from sklearn.multioutput import MultiOutputRegressor\n",
    "from sklearn.ensemble import GradientBoostingRegressor\n",
    "import joblib\n",
    "\n",
    "data_all = pd.ExcelFile(\".\\ebw_data.xlsx\").parse(0)\n",
    "data_all = data_all.astype(float)\n",
    "\n",
    "data_check=data_all[['Depth','Width']]\n",
    "\n",
    "data_work=data_all.drop(data_check.columns.to_list(),axis=1)\n",
    "x_train,x_test,y_train,y_test=train_test_split(data_work,data_check, test_size=0.1)\n"
   ]
  },
  {
   "cell_type": "code",
   "execution_count": 16,
   "id": "ee8bbb17",
   "metadata": {},
   "outputs": [
    {
     "name": "stdout",
     "output_type": "stream",
     "text": [
      "train score: 0.9490677930277889 , test score: 0.9730076045922922 , R2: [0.95418355 0.99183166]\n"
     ]
    }
   ],
   "source": [
    "# Тренировка регресии GradientBoostingRegressor\n",
    "model=GradientBoostingRegressor(n_estimators=1000,learning_rate=0.1)\n",
    "mods=MultiOutputRegressor(model,n_jobs=4)\n",
    "mods.fit(x_train.values,y_train.values)\n",
    "#Проверка точности модели\n",
    "prediction=mods.predict(x_test)\n",
    "train_score=mods.score(x_train,y_train)\n",
    "test_score=mods.score(x_test,y_test)\n",
    "errR2=r2_score(y_test,prediction,multioutput='raw_values')\n",
    "print('train score:',train_score,', test score:',test_score,\", R2:\",errR2)\n"
   ]
  },
  {
   "cell_type": "code",
   "execution_count": 17,
   "id": "30768b68",
   "metadata": {},
   "outputs": [
    {
     "data": {
      "text/plain": [
       "['GradientBoostingRegressor.pkl']"
      ]
     },
     "execution_count": 17,
     "metadata": {},
     "output_type": "execute_result"
    }
   ],
   "source": [
    "#Сохранение модели в файл\n",
    "joblib_file = \"GradientBoostingRegressor.pkl\"\n",
    "joblib.dump(mods, joblib_file, compress=9)"
   ]
  },
  {
   "cell_type": "code",
   "execution_count": 19,
   "id": "0402e7ff",
   "metadata": {},
   "outputs": [],
   "source": [
    "#Загрузка моели из файла для проверки\n",
    "model=joblib.load(joblib_file)\n",
    "train_score=model.score(x_train,y_train)\n",
    "test_score=model.score(x_test,y_test)\n",
    "errR2=r2_score(y_test,prediction,multioutput='raw_values')\n",
    "print('train score:',train_score,', test score:',test_score,\", R2:\",errR2)\n"
   ]
  },
  {
   "cell_type": "code",
   "execution_count": 21,
   "id": "301f8352",
   "metadata": {},
   "outputs": [
    {
     "data": {
      "text/plain": [
       "array([[1.01, 1.86]])"
      ]
     },
     "execution_count": 21,
     "metadata": {},
     "output_type": "execute_result"
    }
   ],
   "source": [
    "#Проверка модели на данных\n",
    "a=[45.0,141.0,10,80.0]\n",
    "predict=model.predict([a])\n",
    "predict"
   ]
  },
  {
   "cell_type": "code",
   "execution_count": null,
   "id": "e6c69cc6",
   "metadata": {},
   "outputs": [],
   "source": []
  }
 ],
 "metadata": {
  "kernelspec": {
   "display_name": "Python 3 (ipykernel)",
   "language": "python",
   "name": "python3"
  },
  "language_info": {
   "codemirror_mode": {
    "name": "ipython",
    "version": 3
   },
   "file_extension": ".py",
   "mimetype": "text/x-python",
   "name": "python",
   "nbconvert_exporter": "python",
   "pygments_lexer": "ipython3",
   "version": "3.9.13"
  }
 },
 "nbformat": 4,
 "nbformat_minor": 5
}
