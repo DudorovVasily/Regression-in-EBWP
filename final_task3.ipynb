{
 "cells": [
  {
   "cell_type": "raw",
   "id": "4a1b027a",
   "metadata": {},
   "source": [
    "Итоговое задание Дудоров В.Н.\n",
    "Кейс «Прогнозирование сварки»\n"
   ]
  },
  {
   "cell_type": "code",
   "execution_count": 1,
   "id": "f1a53f97",
   "metadata": {},
   "outputs": [],
   "source": [
    "#Загрузка библиотек\n",
    "import numpy as np\n",
    "import pandas as pd\n",
    "import seaborn as sns\n",
    "\n",
    "import tensorflow as tf\n",
    "from tensorflow.keras import Sequential\n",
    "from tensorflow.keras.layers import Dense,Dropout\n",
    "from tensorflow.keras import utils\n",
    "from tensorflow.keras.optimizers import Adam\n",
    "\n",
    "import matplotlib.pyplot as plt\n",
    "\n",
    "from sklearn.neighbors import KNeighborsRegressor\n",
    "from sklearn.linear_model import LinearRegression,TweedieRegressor,SGDRegressor,ElasticNetCV\n",
    "from sklearn.linear_model import OrthogonalMatchingPursuit,OrthogonalMatchingPursuitCV,BayesianRidge,ARDRegression\n",
    "from sklearn.linear_model import PassiveAggressiveRegressor,HuberRegressor, TheilSenRegressor,RANSACRegressor,Ridge\n",
    "\n",
    "from sklearn.svm import SVR\n",
    "from sklearn.ensemble import RandomForestRegressor\n",
    "from sklearn.metrics import r2_score\n",
    "from sklearn.model_selection import train_test_split\n",
    "from sklearn.preprocessing import StandardScaler,MinMaxScaler\n",
    "from sklearn.multioutput import MultiOutputRegressor\n",
    "from sklearn.ensemble import GradientBoostingRegressor\n"
   ]
  },
  {
   "cell_type": "raw",
   "id": "831d70f0",
   "metadata": {},
   "source": [
    "Загрузка данных\n"
   ]
  },
  {
   "cell_type": "code",
   "execution_count": 2,
   "id": "7f026d9d",
   "metadata": {
    "scrolled": false
   },
   "outputs": [],
   "source": [
    "data_all = pd.ExcelFile(\"ebw_data.xlsx\").parse(0)\n",
    "data_all = data_all.astype(float)\n",
    "\n"
   ]
  },
  {
   "cell_type": "code",
   "execution_count": 3,
   "id": "74a7c263",
   "metadata": {},
   "outputs": [],
   "source": [
    "#нормализация данных\n",
    "scaler = StandardScaler()\n",
    "data_all_scale=pd.DataFrame(scaler.fit_transform(data_all),columns=data_all.columns)\n"
   ]
  },
  {
   "cell_type": "code",
   "execution_count": 4,
   "id": "82e219c9",
   "metadata": {},
   "outputs": [
    {
     "data": {
      "text/html": [
       "<div>\n",
       "<style scoped>\n",
       "    .dataframe tbody tr th:only-of-type {\n",
       "        vertical-align: middle;\n",
       "    }\n",
       "\n",
       "    .dataframe tbody tr th {\n",
       "        vertical-align: top;\n",
       "    }\n",
       "\n",
       "    .dataframe thead th {\n",
       "        text-align: right;\n",
       "    }\n",
       "</style>\n",
       "<table border=\"1\" class=\"dataframe\">\n",
       "  <thead>\n",
       "    <tr style=\"text-align: right;\">\n",
       "      <th></th>\n",
       "      <th>IW</th>\n",
       "      <th>IF</th>\n",
       "      <th>VW</th>\n",
       "      <th>FP</th>\n",
       "      <th>Depth</th>\n",
       "      <th>Width</th>\n",
       "    </tr>\n",
       "  </thead>\n",
       "  <tbody>\n",
       "    <tr>\n",
       "      <th>0</th>\n",
       "      <td>0.8</td>\n",
       "      <td>-0.456630</td>\n",
       "      <td>-2.02221</td>\n",
       "      <td>0.078087</td>\n",
       "      <td>1.809490</td>\n",
       "      <td>2.055551</td>\n",
       "    </tr>\n",
       "    <tr>\n",
       "      <th>1</th>\n",
       "      <td>0.8</td>\n",
       "      <td>-0.456630</td>\n",
       "      <td>-2.02221</td>\n",
       "      <td>0.078087</td>\n",
       "      <td>1.898971</td>\n",
       "      <td>1.911196</td>\n",
       "    </tr>\n",
       "    <tr>\n",
       "      <th>2</th>\n",
       "      <td>0.8</td>\n",
       "      <td>-0.456630</td>\n",
       "      <td>-2.02221</td>\n",
       "      <td>0.078087</td>\n",
       "      <td>2.167411</td>\n",
       "      <td>2.272083</td>\n",
       "    </tr>\n",
       "    <tr>\n",
       "      <th>3</th>\n",
       "      <td>0.8</td>\n",
       "      <td>-0.456630</td>\n",
       "      <td>-2.02221</td>\n",
       "      <td>0.078087</td>\n",
       "      <td>1.720010</td>\n",
       "      <td>1.983373</td>\n",
       "    </tr>\n",
       "    <tr>\n",
       "      <th>4</th>\n",
       "      <td>-0.4</td>\n",
       "      <td>-0.260931</td>\n",
       "      <td>-2.02221</td>\n",
       "      <td>0.078087</td>\n",
       "      <td>2.525333</td>\n",
       "      <td>1.839019</td>\n",
       "    </tr>\n",
       "  </tbody>\n",
       "</table>\n",
       "</div>"
      ],
      "text/plain": [
       "    IW        IF       VW        FP     Depth     Width\n",
       "0  0.8 -0.456630 -2.02221  0.078087  1.809490  2.055551\n",
       "1  0.8 -0.456630 -2.02221  0.078087  1.898971  1.911196\n",
       "2  0.8 -0.456630 -2.02221  0.078087  2.167411  2.272083\n",
       "3  0.8 -0.456630 -2.02221  0.078087  1.720010  1.983373\n",
       "4 -0.4 -0.260931 -2.02221  0.078087  2.525333  1.839019"
      ]
     },
     "execution_count": 4,
     "metadata": {},
     "output_type": "execute_result"
    }
   ],
   "source": [
    "\n",
    "data_all_scale.head()"
   ]
  },
  {
   "cell_type": "code",
   "execution_count": 5,
   "id": "658c8ff9",
   "metadata": {},
   "outputs": [],
   "source": [
    "#Разделение данных на входные и целевые\n",
    "data_check=data_all_scale[['Depth','Width']]\n",
    "data_work=data_all_scale.drop(data_check.columns.to_list(),axis=1)\n"
   ]
  },
  {
   "cell_type": "code",
   "execution_count": 6,
   "id": "3a42ddea",
   "metadata": {},
   "outputs": [
    {
     "data": {
      "text/plain": [
       "<AxesSubplot:>"
      ]
     },
     "execution_count": 6,
     "metadata": {},
     "output_type": "execute_result"
    },
    {
     "data": {
      "image/png": "[encoded data removed]",
      "text/plain": [
       "<Figure size 640x480 with 2 Axes>"
      ]
     },
     "metadata": {},
     "output_type": "display_data"
    }
   ],
   "source": [
    "#Выведение информации о данных\n",
    "sns.heatmap(data_work.corr(), cmap= 'coolwarm')"
   ]
  },
  {
   "cell_type": "code",
   "execution_count": 7,
   "id": "610a942d",
   "metadata": {},
   "outputs": [
    {
     "data": {
      "text/html": [
       "<div>\n",
       "<style scoped>\n",
       "    .dataframe tbody tr th:only-of-type {\n",
       "        vertical-align: middle;\n",
       "    }\n",
       "\n",
       "    .dataframe tbody tr th {\n",
       "        vertical-align: top;\n",
       "    }\n",
       "\n",
       "    .dataframe thead th {\n",
       "        text-align: right;\n",
       "    }\n",
       "</style>\n",
       "<table border=\"1\" class=\"dataframe\">\n",
       "  <thead>\n",
       "    <tr style=\"text-align: right;\">\n",
       "      <th></th>\n",
       "      <th>IW</th>\n",
       "      <th>IF</th>\n",
       "      <th>VW</th>\n",
       "      <th>FP</th>\n",
       "    </tr>\n",
       "  </thead>\n",
       "  <tbody>\n",
       "    <tr>\n",
       "      <th>IW</th>\n",
       "      <td>1.000000</td>\n",
       "      <td>-0.861073</td>\n",
       "      <td>-0.043430</td>\n",
       "      <td>0.835530</td>\n",
       "    </tr>\n",
       "    <tr>\n",
       "      <th>IF</th>\n",
       "      <td>-0.861073</td>\n",
       "      <td>1.000000</td>\n",
       "      <td>0.115093</td>\n",
       "      <td>-0.980562</td>\n",
       "    </tr>\n",
       "    <tr>\n",
       "      <th>VW</th>\n",
       "      <td>-0.043430</td>\n",
       "      <td>0.115093</td>\n",
       "      <td>1.000000</td>\n",
       "      <td>-0.001060</td>\n",
       "    </tr>\n",
       "    <tr>\n",
       "      <th>FP</th>\n",
       "      <td>0.835530</td>\n",
       "      <td>-0.980562</td>\n",
       "      <td>-0.001060</td>\n",
       "      <td>1.000000</td>\n",
       "    </tr>\n",
       "  </tbody>\n",
       "</table>\n",
       "</div>"
      ],
      "text/plain": [
       "          IW        IF        VW        FP\n",
       "IW  1.000000 -0.861073 -0.043430  0.835530\n",
       "IF -0.861073  1.000000  0.115093 -0.980562\n",
       "VW -0.043430  0.115093  1.000000 -0.001060\n",
       "FP  0.835530 -0.980562 -0.001060  1.000000"
      ]
     },
     "execution_count": 7,
     "metadata": {},
     "output_type": "execute_result"
    }
   ],
   "source": [
    "data_work.corr()"
   ]
  },
  {
   "cell_type": "code",
   "execution_count": 8,
   "id": "4f9568ba",
   "metadata": {},
   "outputs": [
    {
     "data": {
      "text/html": [
       "<div>\n",
       "<style scoped>\n",
       "    .dataframe tbody tr th:only-of-type {\n",
       "        vertical-align: middle;\n",
       "    }\n",
       "\n",
       "    .dataframe tbody tr th {\n",
       "        vertical-align: top;\n",
       "    }\n",
       "\n",
       "    .dataframe thead th {\n",
       "        text-align: right;\n",
       "    }\n",
       "</style>\n",
       "<table border=\"1\" class=\"dataframe\">\n",
       "  <thead>\n",
       "    <tr style=\"text-align: right;\">\n",
       "      <th></th>\n",
       "      <th>count</th>\n",
       "      <th>mean</th>\n",
       "      <th>std</th>\n",
       "      <th>min</th>\n",
       "      <th>25%</th>\n",
       "      <th>50%</th>\n",
       "      <th>75%</th>\n",
       "      <th>max</th>\n",
       "    </tr>\n",
       "  </thead>\n",
       "  <tbody>\n",
       "    <tr>\n",
       "      <th>IW</th>\n",
       "      <td>72.0</td>\n",
       "      <td>45.666667</td>\n",
       "      <td>1.678363</td>\n",
       "      <td>43.00</td>\n",
       "      <td>44.00</td>\n",
       "      <td>45.50</td>\n",
       "      <td>47.00</td>\n",
       "      <td>49.00</td>\n",
       "    </tr>\n",
       "    <tr>\n",
       "      <th>IF</th>\n",
       "      <td>72.0</td>\n",
       "      <td>141.333333</td>\n",
       "      <td>5.145763</td>\n",
       "      <td>131.00</td>\n",
       "      <td>139.00</td>\n",
       "      <td>141.00</td>\n",
       "      <td>146.00</td>\n",
       "      <td>150.00</td>\n",
       "    </tr>\n",
       "    <tr>\n",
       "      <th>VW</th>\n",
       "      <td>72.0</td>\n",
       "      <td>8.638889</td>\n",
       "      <td>2.061078</td>\n",
       "      <td>4.50</td>\n",
       "      <td>8.00</td>\n",
       "      <td>9.00</td>\n",
       "      <td>10.00</td>\n",
       "      <td>12.00</td>\n",
       "    </tr>\n",
       "    <tr>\n",
       "      <th>FP</th>\n",
       "      <td>72.0</td>\n",
       "      <td>78.333333</td>\n",
       "      <td>21.493530</td>\n",
       "      <td>50.00</td>\n",
       "      <td>60.00</td>\n",
       "      <td>80.00</td>\n",
       "      <td>80.00</td>\n",
       "      <td>125.00</td>\n",
       "    </tr>\n",
       "    <tr>\n",
       "      <th>Depth</th>\n",
       "      <td>72.0</td>\n",
       "      <td>1.195556</td>\n",
       "      <td>0.225081</td>\n",
       "      <td>0.80</td>\n",
       "      <td>1.08</td>\n",
       "      <td>1.20</td>\n",
       "      <td>1.29</td>\n",
       "      <td>1.76</td>\n",
       "    </tr>\n",
       "    <tr>\n",
       "      <th>Width</th>\n",
       "      <td>72.0</td>\n",
       "      <td>1.970417</td>\n",
       "      <td>0.279040</td>\n",
       "      <td>1.68</td>\n",
       "      <td>1.76</td>\n",
       "      <td>1.84</td>\n",
       "      <td>2.05</td>\n",
       "      <td>2.60</td>\n",
       "    </tr>\n",
       "  </tbody>\n",
       "</table>\n",
       "</div>"
      ],
      "text/plain": [
       "       count        mean        std     min     25%     50%     75%     max\n",
       "IW      72.0   45.666667   1.678363   43.00   44.00   45.50   47.00   49.00\n",
       "IF      72.0  141.333333   5.145763  131.00  139.00  141.00  146.00  150.00\n",
       "VW      72.0    8.638889   2.061078    4.50    8.00    9.00   10.00   12.00\n",
       "FP      72.0   78.333333  21.493530   50.00   60.00   80.00   80.00  125.00\n",
       "Depth   72.0    1.195556   0.225081    0.80    1.08    1.20    1.29    1.76\n",
       "Width   72.0    1.970417   0.279040    1.68    1.76    1.84    2.05    2.60"
      ]
     },
     "execution_count": 8,
     "metadata": {},
     "output_type": "execute_result"
    }
   ],
   "source": [
    "data_all.describe(include = \"all\").T"
   ]
  },
  {
   "cell_type": "code",
   "execution_count": 9,
   "id": "40725b99",
   "metadata": {},
   "outputs": [
    {
     "name": "stdout",
     "output_type": "stream",
     "text": [
      "<class 'pandas.core.frame.DataFrame'>\n",
      "RangeIndex: 72 entries, 0 to 71\n",
      "Data columns (total 6 columns):\n",
      " #   Column  Non-Null Count  Dtype  \n",
      "---  ------  --------------  -----  \n",
      " 0   IW      72 non-null     float64\n",
      " 1   IF      72 non-null     float64\n",
      " 2   VW      72 non-null     float64\n",
      " 3   FP      72 non-null     float64\n",
      " 4   Depth   72 non-null     float64\n",
      " 5   Width   72 non-null     float64\n",
      "dtypes: float64(6)\n",
      "memory usage: 3.5 KB\n",
      "None\n"
     ]
    }
   ],
   "source": [
    "print(data_all.info())"
   ]
  },
  {
   "cell_type": "code",
   "execution_count": 10,
   "id": "3f483394",
   "metadata": {
    "scrolled": true
   },
   "outputs": [
    {
     "name": "stdout",
     "output_type": "stream",
     "text": [
      "IW       0\n",
      "IF       0\n",
      "VW       0\n",
      "FP       0\n",
      "Depth    0\n",
      "Width    0\n",
      "dtype: int64\n"
     ]
    }
   ],
   "source": [
    "# Проверка на не заполненные значения\n",
    "print(data_all.isna().sum())"
   ]
  },
  {
   "cell_type": "code",
   "execution_count": 11,
   "id": "f74af5c1",
   "metadata": {},
   "outputs": [
    {
     "data": {
      "text/plain": [
       "(72, 4)"
      ]
     },
     "execution_count": 11,
     "metadata": {},
     "output_type": "execute_result"
    }
   ],
   "source": [
    "data_work.shape"
   ]
  },
  {
   "cell_type": "code",
   "execution_count": 12,
   "id": "50ec27e9",
   "metadata": {},
   "outputs": [
    {
     "data": {
      "text/html": [
       "<div>\n",
       "<style scoped>\n",
       "    .dataframe tbody tr th:only-of-type {\n",
       "        vertical-align: middle;\n",
       "    }\n",
       "\n",
       "    .dataframe tbody tr th {\n",
       "        vertical-align: top;\n",
       "    }\n",
       "\n",
       "    .dataframe thead th {\n",
       "        text-align: right;\n",
       "    }\n",
       "</style>\n",
       "<table border=\"1\" class=\"dataframe\">\n",
       "  <thead>\n",
       "    <tr style=\"text-align: right;\">\n",
       "      <th></th>\n",
       "      <th>IW</th>\n",
       "      <th>IF</th>\n",
       "      <th>VW</th>\n",
       "      <th>FP</th>\n",
       "    </tr>\n",
       "  </thead>\n",
       "  <tbody>\n",
       "    <tr>\n",
       "      <th>IW</th>\n",
       "      <td>1.000000</td>\n",
       "      <td>-0.861073</td>\n",
       "      <td>-0.043430</td>\n",
       "      <td>0.835530</td>\n",
       "    </tr>\n",
       "    <tr>\n",
       "      <th>IF</th>\n",
       "      <td>-0.861073</td>\n",
       "      <td>1.000000</td>\n",
       "      <td>0.115093</td>\n",
       "      <td>-0.980562</td>\n",
       "    </tr>\n",
       "    <tr>\n",
       "      <th>VW</th>\n",
       "      <td>-0.043430</td>\n",
       "      <td>0.115093</td>\n",
       "      <td>1.000000</td>\n",
       "      <td>-0.001060</td>\n",
       "    </tr>\n",
       "    <tr>\n",
       "      <th>FP</th>\n",
       "      <td>0.835530</td>\n",
       "      <td>-0.980562</td>\n",
       "      <td>-0.001060</td>\n",
       "      <td>1.000000</td>\n",
       "    </tr>\n",
       "  </tbody>\n",
       "</table>\n",
       "</div>"
      ],
      "text/plain": [
       "          IW        IF        VW        FP\n",
       "IW  1.000000 -0.861073 -0.043430  0.835530\n",
       "IF -0.861073  1.000000  0.115093 -0.980562\n",
       "VW -0.043430  0.115093  1.000000 -0.001060\n",
       "FP  0.835530 -0.980562 -0.001060  1.000000"
      ]
     },
     "execution_count": 12,
     "metadata": {},
     "output_type": "execute_result"
    }
   ],
   "source": [
    "data_work.corr()"
   ]
  },
  {
   "cell_type": "code",
   "execution_count": 13,
   "id": "c1a48b2c",
   "metadata": {},
   "outputs": [],
   "source": [
    "#делим данные на тренировочные и проверочные\n",
    "x_train,x_test,y_train,y_test=train_test_split(data_work,data_check, test_size=0.1)\n"
   ]
  },
  {
   "cell_type": "code",
   "execution_count": 14,
   "id": "610c921e",
   "metadata": {},
   "outputs": [],
   "source": [
    "#таблица итоговая по различным моделям регресии\n",
    "columns=['Model','Train score R2','Test score R2','Depth R2','Width R2']\n",
    "\n"
   ]
  },
  {
   "cell_type": "code",
   "execution_count": 15,
   "id": "c90ece7d",
   "metadata": {},
   "outputs": [],
   "source": [
    "def CalculateRegression(model,x_tr,y_tr,x_ts,y_ts):\n",
    "    line=[model]\n",
    "    model.fit(x_tr,y_tr)\n",
    "    prediction=model.predict(x_ts)\n",
    "    train_score=model.score(x_tr,y_tr)\n",
    "    test_score=model.score(x_ts,y_ts)\n",
    "    errR2=r2_score(y_ts,prediction,multioutput='raw_values')\n",
    "    line.append(train_score)\n",
    "    line.append(test_score)\n",
    "    line.extend(errR2)\n",
    "    return line"
   ]
  },
  {
   "cell_type": "code",
   "execution_count": 16,
   "id": "4ef1b7f5",
   "metadata": {},
   "outputs": [],
   "source": [
    "def CalculateMultiplyRegression(model,x_tr,y_tr,x_ts,y_ts):\n",
    "    line=[model]\n",
    "    mods=MultiOutputRegressor(model)\n",
    "    mods.fit(x_tr,y_tr)\n",
    "    prediction=mods.predict(x_ts)\n",
    "    train_score=mods.score(x_tr,y_tr)\n",
    "    test_score=mods.score(x_ts,y_ts)\n",
    "    errR2=r2_score(y_ts,prediction,multioutput='raw_values')\n",
    "    line.append(train_score)\n",
    "    line.append(test_score)\n",
    "    line.extend(errR2)    \n",
    "    return line"
   ]
  },
  {
   "cell_type": "code",
   "execution_count": 18,
   "id": "85305554",
   "metadata": {},
   "outputs": [],
   "source": [
    "#Модели регресий которые проверяем\n",
    "regres_model_m=[LinearRegression(),\n",
    "                KNeighborsRegressor(),\n",
    "                RandomForestRegressor(n_estimators=100, max_features='sqrt'),\n",
    "                OrthogonalMatchingPursuit(normalize=False),\n",
    "                Ridge(alpha=100, solver='cholesky', tol=0.0001, random_state=42)           \n",
    "               ]\n",
    "regres_model=[SVR(kernel='linear'),\n",
    "              GradientBoostingRegressor(n_estimators=1000,learning_rate=0.1),\n",
    "              TweedieRegressor(power=0, alpha=1,max_iter=1000),\n",
    "              SGDRegressor(max_iter=10000, tol=1e-3),\n",
    "              ElasticNetCV(cv=5, random_state=0),\n",
    "              OrthogonalMatchingPursuitCV(normalize=False),\n",
    "              BayesianRidge(),\n",
    "              ARDRegression(),\n",
    "              PassiveAggressiveRegressor(),\n",
    "              HuberRegressor(),\n",
    "              TheilSenRegressor(random_state=42),\n",
    "              RANSACRegressor(random_state=42)\n",
    "               ]\n"
   ]
  },
  {
   "cell_type": "code",
   "execution_count": 19,
   "id": "9a5bffeb",
   "metadata": {},
   "outputs": [
    {
     "name": "stdout",
     "output_type": "stream",
     "text": [
      "Wall time: 700 ms\n"
     ]
    }
   ],
   "source": [
    "%%time\n",
    "#Модели регрессии проверяем\n",
    "\n",
    "\n",
    "result_table=pd.DataFrame(columns=columns)\n",
    "for i in regres_model_m:\n",
    "    result=CalculateRegression(i,x_train,y_train,x_test,y_test)\n",
    "    result_table.loc[ len(result_table.index )]=result\n",
    "    \n",
    "for i in regres_model:\n",
    "    result=CalculateMultiplyRegression(i,x_train,y_train,x_test,y_test)\n",
    "    result_table.loc[ len(result_table.index )]=result\n",
    "    \n"
   ]
  },
  {
   "cell_type": "code",
   "execution_count": 20,
   "id": "93652722",
   "metadata": {
    "scrolled": false
   },
   "outputs": [
    {
     "name": "stdout",
     "output_type": "stream",
     "text": [
      "2/2 [==============================] - 0s 7ms/step - loss: 0.0650 - accuracy: 0.9531 - mse: 0.0650 - mae: 0.1907\n",
      "train loss, train acc: [0.06500592082738876, 0.953125, 0.06500592082738876, 0.1906592696905136]\n",
      "1/1 [==============================] - 0s 21ms/step - loss: 0.0754 - accuracy: 0.8750 - mse: 0.0754 - mae: 0.2340\n",
      "test loss, test acc: [0.07540382444858551, 0.875, 0.07540382444858551, 0.2340298295021057]\n",
      "1/1 [==============================] - 0s 57ms/step\n",
      "2/2 [==============================] - 0s 3ms/step\n",
      "Вычисляем для train R2: [0.89992087 0.96595112]\n",
      "Вычисляем для test R2: [0.88125153 0.97657083]\n",
      "Wall time: 29.9 s\n"
     ]
    }
   ],
   "source": [
    "%%time\n",
    "#Формируем нейросеть\n",
    "model = Sequential()\n",
    "model.add(Dense(x_train.shape[1],   activation='tanh'))\n",
    "model.add(Dense(10,  activation='tanh'))\n",
    "model.add(Dropout(0.1))\n",
    "model.add(Dense(30,  activation='tanh'))\n",
    "model.add(Dropout(0.1))\n",
    "model.add(Dense(10,  activation='tanh'))\n",
    "model.add(Dense(2,  activation='linear'))\n",
    "model.compile(loss = 'mse',optimizer=Adam(learning_rate=0.001),metrics = ['accuracy','mse','mae'])\n",
    "history=model.fit(x_train,y_train, batch_size=(x_train.shape[1]), epochs=300,  verbose =0, validation_data=(x_test,y_test))\n",
    "    \n",
    "results = model.evaluate(x_train, y_train)\n",
    "print('train loss, train acc:', results)\n",
    "results = model.evaluate(x_test, y_test)\n",
    "print('test loss, test acc:', results)\n",
    "\n",
    "test_pred = model.predict(x_test)\n",
    "train_pred = model.predict(x_train)\n",
    "errR2=r2_score(y_train,train_pred,multioutput='raw_values')\n",
    "print(\"Вычисляем для train R2:\",errR2)\n",
    "errR2=r2_score(y_test,test_pred,multioutput='raw_values')\n",
    "print(\"Вычисляем для test R2:\",errR2)\n"
   ]
  },
  {
   "cell_type": "code",
   "execution_count": 21,
   "id": "ea8c5b25",
   "metadata": {},
   "outputs": [],
   "source": [
    "line=['Neural network ']\n",
    "line.append(r2_score(y_train,train_pred))\n",
    "line.append(r2_score(y_test,test_pred))\n",
    "line.extend(r2_score(y_test,test_pred,multioutput='raw_values'))    \n",
    "result_table.loc[ len(result_table.index )]=line\n"
   ]
  },
  {
   "cell_type": "code",
   "execution_count": 22,
   "id": "8355e2eb",
   "metadata": {
    "scrolled": false
   },
   "outputs": [
    {
     "data": {
      "image/png": "[encoded data removed]",
      "text/plain": [
       "<Figure size 640x480 with 1 Axes>"
      ]
     },
     "metadata": {},
     "output_type": "display_data"
    },
    {
     "data": {
      "image/png": "[encoded data removed]",
      "text/plain": [
       "<Figure size 640x480 with 1 Axes>"
      ]
     },
     "metadata": {},
     "output_type": "display_data"
    },
    {
     "data": {
      "image/png": "[encoded data removed]",
      "text/plain": [
       "<Figure size 640x480 with 1 Axes>"
      ]
     },
     "metadata": {},
     "output_type": "display_data"
    },
    {
     "data": {
      "image/png": "[encoded data removed]",
      "text/plain": [
       "<Figure size 640x480 with 1 Axes>"
      ]
     },
     "metadata": {},
     "output_type": "display_data"
    }
   ],
   "source": [
    "#Выводим дынне как обучалась нейросеть\n",
    "plt.plot(history.history['loss'], label='loss')\n",
    "plt.plot(history.history['val_loss'], label='val_loss')\n",
    "#plt.plot(history.history['val_accuracy'], label='val_accuracy')\n",
    "plt.ylabel('loss')\n",
    "plt.xlabel('No. epoch')\n",
    "plt.legend(loc=\"upper right\")\n",
    "plt.show()\n",
    "plt.plot(history.history['accuracy'], label='accuracy')\n",
    "plt.plot(history.history['val_accuracy'], label='val_accuracy')\n",
    "plt.ylabel('accuracy')\n",
    "plt.xlabel('No. epoch')\n",
    "plt.legend(loc=\"upper left\")\n",
    "plt.show()\n",
    "plt.plot(history.history['mse'], label='mse')\n",
    "plt.plot(history.history['val_mse'], label='val_mse')\n",
    "#plt.plot(history.history['val_accuracy'], label='val_accuracy')\n",
    "plt.ylabel('mse')\n",
    "plt.xlabel('No. epoch')\n",
    "plt.legend(loc=\"upper right\")\n",
    "plt.show()\n",
    "plt.plot(history.history['mae'], label='mae')\n",
    "plt.plot(history.history['val_mae'], label='val_mae')\n",
    "#plt.plot(history.history['val_accuracy'], label='val_accuracy')\n",
    "plt.ylabel('mae')\n",
    "plt.xlabel('No. epoch')\n",
    "plt.legend(loc=\"upper right\")\n",
    "plt.show()\n"
   ]
  },
  {
   "cell_type": "code",
   "execution_count": 23,
   "id": "12ba9213",
   "metadata": {},
   "outputs": [
    {
     "name": "stdout",
     "output_type": "stream",
     "text": [
      "Model: \"sequential\"\n",
      "_________________________________________________________________\n",
      " Layer (type)                Output Shape              Param #   \n",
      "=================================================================\n",
      " dense (Dense)               (None, 4)                 20        \n",
      "                                                                 \n",
      " dense_1 (Dense)             (None, 10)                50        \n",
      "                                                                 \n",
      " dropout (Dropout)           (None, 10)                0         \n",
      "                                                                 \n",
      " dense_2 (Dense)             (None, 30)                330       \n",
      "                                                                 \n",
      " dropout_1 (Dropout)         (None, 30)                0         \n",
      "                                                                 \n",
      " dense_3 (Dense)             (None, 10)                310       \n",
      "                                                                 \n",
      " dense_4 (Dense)             (None, 2)                 22        \n",
      "                                                                 \n",
      "=================================================================\n",
      "Total params: 732\n",
      "Trainable params: 732\n",
      "Non-trainable params: 0\n",
      "_________________________________________________________________\n"
     ]
    }
   ],
   "source": [
    "#информация о модели\n",
    "model.summary()\n"
   ]
  },
  {
   "cell_type": "code",
   "execution_count": 24,
   "id": "6157d011",
   "metadata": {},
   "outputs": [
    {
     "data": {
      "text/html": [
       "<div>\n",
       "<style scoped>\n",
       "    .dataframe tbody tr th:only-of-type {\n",
       "        vertical-align: middle;\n",
       "    }\n",
       "\n",
       "    .dataframe tbody tr th {\n",
       "        vertical-align: top;\n",
       "    }\n",
       "\n",
       "    .dataframe thead th {\n",
       "        text-align: right;\n",
       "    }\n",
       "</style>\n",
       "<table border=\"1\" class=\"dataframe\">\n",
       "  <thead>\n",
       "    <tr style=\"text-align: right;\">\n",
       "      <th></th>\n",
       "      <th>Model</th>\n",
       "      <th>Train score R2</th>\n",
       "      <th>Test score R2</th>\n",
       "      <th>Depth R2</th>\n",
       "      <th>Width R2</th>\n",
       "    </tr>\n",
       "  </thead>\n",
       "  <tbody>\n",
       "    <tr>\n",
       "      <th>1</th>\n",
       "      <td>KNeighborsRegressor()</td>\n",
       "      <td>0.940561</td>\n",
       "      <td>0.952143</td>\n",
       "      <td>0.912724</td>\n",
       "      <td>0.991563</td>\n",
       "    </tr>\n",
       "    <tr>\n",
       "      <th>2</th>\n",
       "      <td>(DecisionTreeRegressor(max_features='sqrt', ra...</td>\n",
       "      <td>0.953200</td>\n",
       "      <td>0.940439</td>\n",
       "      <td>0.903138</td>\n",
       "      <td>0.977740</td>\n",
       "    </tr>\n",
       "    <tr>\n",
       "      <th>6</th>\n",
       "      <td>GradientBoostingRegressor(n_estimators=1000)</td>\n",
       "      <td>0.953456</td>\n",
       "      <td>0.940363</td>\n",
       "      <td>0.904166</td>\n",
       "      <td>0.976561</td>\n",
       "    </tr>\n",
       "    <tr>\n",
       "      <th>17</th>\n",
       "      <td>Neural network</td>\n",
       "      <td>0.932936</td>\n",
       "      <td>0.928911</td>\n",
       "      <td>0.881252</td>\n",
       "      <td>0.976571</td>\n",
       "    </tr>\n",
       "    <tr>\n",
       "      <th>12</th>\n",
       "      <td>ARDRegression()</td>\n",
       "      <td>0.867454</td>\n",
       "      <td>0.909126</td>\n",
       "      <td>0.855290</td>\n",
       "      <td>0.962961</td>\n",
       "    </tr>\n",
       "    <tr>\n",
       "      <th>10</th>\n",
       "      <td>OrthogonalMatchingPursuitCV(normalize=False)</td>\n",
       "      <td>0.868045</td>\n",
       "      <td>0.907456</td>\n",
       "      <td>0.851884</td>\n",
       "      <td>0.963028</td>\n",
       "    </tr>\n",
       "    <tr>\n",
       "      <th>0</th>\n",
       "      <td>LinearRegression()</td>\n",
       "      <td>0.868133</td>\n",
       "      <td>0.906903</td>\n",
       "      <td>0.851884</td>\n",
       "      <td>0.961922</td>\n",
       "    </tr>\n",
       "    <tr>\n",
       "      <th>9</th>\n",
       "      <td>ElasticNetCV(cv=5, random_state=0)</td>\n",
       "      <td>0.867811</td>\n",
       "      <td>0.906411</td>\n",
       "      <td>0.850760</td>\n",
       "      <td>0.962062</td>\n",
       "    </tr>\n",
       "    <tr>\n",
       "      <th>11</th>\n",
       "      <td>BayesianRidge()</td>\n",
       "      <td>0.867159</td>\n",
       "      <td>0.905629</td>\n",
       "      <td>0.849508</td>\n",
       "      <td>0.961750</td>\n",
       "    </tr>\n",
       "    <tr>\n",
       "      <th>8</th>\n",
       "      <td>SGDRegressor(max_iter=10000)</td>\n",
       "      <td>0.810716</td>\n",
       "      <td>0.890260</td>\n",
       "      <td>0.830574</td>\n",
       "      <td>0.949946</td>\n",
       "    </tr>\n",
       "    <tr>\n",
       "      <th>14</th>\n",
       "      <td>HuberRegressor()</td>\n",
       "      <td>0.861270</td>\n",
       "      <td>0.866249</td>\n",
       "      <td>0.768462</td>\n",
       "      <td>0.964036</td>\n",
       "    </tr>\n",
       "    <tr>\n",
       "      <th>15</th>\n",
       "      <td>TheilSenRegressor(max_subpopulation=10000, ran...</td>\n",
       "      <td>0.810566</td>\n",
       "      <td>0.843980</td>\n",
       "      <td>0.798352</td>\n",
       "      <td>0.889609</td>\n",
       "    </tr>\n",
       "    <tr>\n",
       "      <th>5</th>\n",
       "      <td>SVR(kernel='linear')</td>\n",
       "      <td>0.830575</td>\n",
       "      <td>0.784838</td>\n",
       "      <td>0.602134</td>\n",
       "      <td>0.967542</td>\n",
       "    </tr>\n",
       "    <tr>\n",
       "      <th>3</th>\n",
       "      <td>OrthogonalMatchingPursuit(normalize=False)</td>\n",
       "      <td>0.579039</td>\n",
       "      <td>0.743499</td>\n",
       "      <td>0.635599</td>\n",
       "      <td>0.851400</td>\n",
       "    </tr>\n",
       "    <tr>\n",
       "      <th>16</th>\n",
       "      <td>RANSACRegressor(random_state=42)</td>\n",
       "      <td>0.772494</td>\n",
       "      <td>0.668111</td>\n",
       "      <td>0.363396</td>\n",
       "      <td>0.972827</td>\n",
       "    </tr>\n",
       "    <tr>\n",
       "      <th>7</th>\n",
       "      <td>TweedieRegressor(alpha=1, max_iter=1000, power=0)</td>\n",
       "      <td>0.632099</td>\n",
       "      <td>0.596317</td>\n",
       "      <td>0.500523</td>\n",
       "      <td>0.692112</td>\n",
       "    </tr>\n",
       "    <tr>\n",
       "      <th>13</th>\n",
       "      <td>PassiveAggressiveRegressor()</td>\n",
       "      <td>0.346284</td>\n",
       "      <td>0.490149</td>\n",
       "      <td>0.709322</td>\n",
       "      <td>0.270977</td>\n",
       "    </tr>\n",
       "    <tr>\n",
       "      <th>4</th>\n",
       "      <td>Ridge(alpha=100, random_state=42, solver='chol...</td>\n",
       "      <td>0.545759</td>\n",
       "      <td>0.483039</td>\n",
       "      <td>0.381280</td>\n",
       "      <td>0.584798</td>\n",
       "    </tr>\n",
       "  </tbody>\n",
       "</table>\n",
       "</div>"
      ],
      "text/plain": [
       "                                                Model  Train score R2  \\\n",
       "1                               KNeighborsRegressor()        0.940561   \n",
       "2   (DecisionTreeRegressor(max_features='sqrt', ra...        0.953200   \n",
       "6        GradientBoostingRegressor(n_estimators=1000)        0.953456   \n",
       "17                                    Neural network         0.932936   \n",
       "12                                    ARDRegression()        0.867454   \n",
       "10       OrthogonalMatchingPursuitCV(normalize=False)        0.868045   \n",
       "0                                  LinearRegression()        0.868133   \n",
       "9                  ElasticNetCV(cv=5, random_state=0)        0.867811   \n",
       "11                                    BayesianRidge()        0.867159   \n",
       "8                        SGDRegressor(max_iter=10000)        0.810716   \n",
       "14                                   HuberRegressor()        0.861270   \n",
       "15  TheilSenRegressor(max_subpopulation=10000, ran...        0.810566   \n",
       "5                                SVR(kernel='linear')        0.830575   \n",
       "3          OrthogonalMatchingPursuit(normalize=False)        0.579039   \n",
       "16                   RANSACRegressor(random_state=42)        0.772494   \n",
       "7   TweedieRegressor(alpha=1, max_iter=1000, power=0)        0.632099   \n",
       "13                       PassiveAggressiveRegressor()        0.346284   \n",
       "4   Ridge(alpha=100, random_state=42, solver='chol...        0.545759   \n",
       "\n",
       "    Test score R2  Depth R2  Width R2  \n",
       "1        0.952143  0.912724  0.991563  \n",
       "2        0.940439  0.903138  0.977740  \n",
       "6        0.940363  0.904166  0.976561  \n",
       "17       0.928911  0.881252  0.976571  \n",
       "12       0.909126  0.855290  0.962961  \n",
       "10       0.907456  0.851884  0.963028  \n",
       "0        0.906903  0.851884  0.961922  \n",
       "9        0.906411  0.850760  0.962062  \n",
       "11       0.905629  0.849508  0.961750  \n",
       "8        0.890260  0.830574  0.949946  \n",
       "14       0.866249  0.768462  0.964036  \n",
       "15       0.843980  0.798352  0.889609  \n",
       "5        0.784838  0.602134  0.967542  \n",
       "3        0.743499  0.635599  0.851400  \n",
       "16       0.668111  0.363396  0.972827  \n",
       "7        0.596317  0.500523  0.692112  \n",
       "13       0.490149  0.709322  0.270977  \n",
       "4        0.483039  0.381280  0.584798  "
      ]
     },
     "execution_count": 24,
     "metadata": {},
     "output_type": "execute_result"
    }
   ],
   "source": [
    "# Итоговая таблица с результатми всех вычислений\n",
    "result_table_=result_table.sort_values(['Test score R2','Train score R2'],ascending=[False,False])\n",
    "result_table_"
   ]
  },
  {
   "cell_type": "code",
   "execution_count": null,
   "id": "acdd3f73",
   "metadata": {},
   "outputs": [],
   "source": []
  }
 ],
 "metadata": {
  "kernelspec": {
   "display_name": "Python 3 (ipykernel)",
   "language": "python",
   "name": "python3"
  },
  "language_info": {
   "codemirror_mode": {
    "name": "ipython",
    "version": 3
   },
   "file_extension": ".py",
   "mimetype": "text/x-python",
   "name": "python",
   "nbconvert_exporter": "python",
   "pygments_lexer": "ipython3",
   "version": "3.9.13"
  }
 },
 "nbformat": 4,
 "nbformat_minor": 5
}
